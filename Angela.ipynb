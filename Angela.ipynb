{
 "cells": [
  {
   "cell_type": "markdown",
   "metadata": {},
   "source": [
    "# IMDB MOVIES DATASET ANALYSIS\n",
    "# PHASE 2 PROJECT\n",
    "# Business problem\n",
    "Your company now sees all the big companies creating original video content and they want to get in on the fun. They have decided to create a new movie studio, but they don’t know anything about creating movies. You are charged with exploring what types of films are currently doing the best at the box office. You must then translate those findings into actionable insights that the head of your company's new movie studio can use to help decide what type of films to create.\n",
    "# The Data\n",
    "In the folder zippedData are movie datasets from:\n",
    "\n",
    "* Box Office Mojo \n",
    "* IMDB\n",
    "* Rotten Tomatoes\n",
    "* TheMovieDB\n",
    "* The Numbers\n",
    "\n"
   ]
  },
  {
   "cell_type": "markdown",
   "metadata": {},
   "source": [
    "# Key points\n",
    "* The analysis should yield three concrete business recommendations.\n",
    "* Effective data communication\n",
    "* 3 Main visualizations\n",
    "\n",
    "# Business Objectives\n",
    "\n",
    "1. Produce Profitable Blockbuster Films\n",
    "\n",
    "* Objective: Create highly marketable films with wide appeal, leveraging trends to achieve profitable box office and streaming revenue.\n",
    "* KPI: Achieve at least 20% ROI on each film project within one year of release.\n",
    "\n",
    "\n",
    "2. Optimize Production Costs and Budgets\n",
    "\n",
    "* Objective: Establish a standardized budget and cost optimization framework to ensure cost-efficiency across productions.\n",
    "* KPI: Keep production costs within 10% of the initial budget estimate.\n",
    "\n",
    "3. Trend-Driven Content Development\n",
    "\n",
    "* Objective: Develop a content pipeline that identifies, analyzes, and adapts current film trends to ensure audience interest and market relevance.\n",
    "* KPI: Produce a minimum of three films per year inspired by top-performing genres or themes identified through trend analysis.\n",
    "\n"
   ]
  },
  {
   "cell_type": "markdown",
   "metadata": {},
   "source": [
    "# Key Questions from Business Stakeholders\n",
    "1. Content and Genre Trends\n",
    "\n",
    "* What are the top-performing genres this year, and how have they shifted over recent years?\n",
    "* How can we ensure that our content aligns with current audience preferences while still offering something unique?\n",
    "\n",
    "2. Budget and Cost Management\n",
    "\n",
    "* What is the projected budget for this film, and are there any opportunities to reduce costs without compromising quality?\n",
    "* What are the financial risks involved if the film exceeds the budget?\n",
    "\n",
    "3. Return on Investment (ROI) and Revenue Projections\n",
    "\n",
    "* Based on similar past films, what is the expected ROI for this project?\n",
    "* What revenue milestones should we set, and over what timeline?"
   ]
  },
  {
   "cell_type": "code",
   "execution_count": 3,
   "metadata": {},
   "outputs": [],
   "source": [
    "# importing necessary libraries for data analysis\n",
    "import pandas as pd\n",
    "import numpy as np\n",
    "import sqlite3\n",
    "import seaborn as sns\n",
    "import matplotlib.pyplot as plt\n",
    "import matplotlib_inline\n",
    "import statsmodels.api as sm\n",
    "import zipfile\n",
    "import os"
   ]
  },
  {
   "cell_type": "markdown",
   "metadata": {},
   "source": [
    "# Loading the different datasets"
   ]
  },
  {
   "cell_type": "code",
   "execution_count": 7,
   "metadata": {},
   "outputs": [
    {
     "data": {
      "text/html": [
       "<div>\n",
       "<style scoped>\n",
       "    .dataframe tbody tr th:only-of-type {\n",
       "        vertical-align: middle;\n",
       "    }\n",
       "\n",
       "    .dataframe tbody tr th {\n",
       "        vertical-align: top;\n",
       "    }\n",
       "\n",
       "    .dataframe thead th {\n",
       "        text-align: right;\n",
       "    }\n",
       "</style>\n",
       "<table border=\"1\" class=\"dataframe\">\n",
       "  <thead>\n",
       "    <tr style=\"text-align: right;\">\n",
       "      <th></th>\n",
       "      <th>title</th>\n",
       "      <th>studio</th>\n",
       "      <th>domestic_gross</th>\n",
       "      <th>foreign_gross</th>\n",
       "      <th>year</th>\n",
       "    </tr>\n",
       "  </thead>\n",
       "  <tbody>\n",
       "    <tr>\n",
       "      <th>0</th>\n",
       "      <td>Toy Story 3</td>\n",
       "      <td>BV</td>\n",
       "      <td>415000000.0</td>\n",
       "      <td>652000000</td>\n",
       "      <td>2010</td>\n",
       "    </tr>\n",
       "    <tr>\n",
       "      <th>1</th>\n",
       "      <td>Alice in Wonderland (2010)</td>\n",
       "      <td>BV</td>\n",
       "      <td>334200000.0</td>\n",
       "      <td>691300000</td>\n",
       "      <td>2010</td>\n",
       "    </tr>\n",
       "    <tr>\n",
       "      <th>2</th>\n",
       "      <td>Harry Potter and the Deathly Hallows Part 1</td>\n",
       "      <td>WB</td>\n",
       "      <td>296000000.0</td>\n",
       "      <td>664300000</td>\n",
       "      <td>2010</td>\n",
       "    </tr>\n",
       "    <tr>\n",
       "      <th>3</th>\n",
       "      <td>Inception</td>\n",
       "      <td>WB</td>\n",
       "      <td>292600000.0</td>\n",
       "      <td>535700000</td>\n",
       "      <td>2010</td>\n",
       "    </tr>\n",
       "    <tr>\n",
       "      <th>4</th>\n",
       "      <td>Shrek Forever After</td>\n",
       "      <td>P/DW</td>\n",
       "      <td>238700000.0</td>\n",
       "      <td>513900000</td>\n",
       "      <td>2010</td>\n",
       "    </tr>\n",
       "  </tbody>\n",
       "</table>\n",
       "</div>"
      ],
      "text/plain": [
       "                                         title studio  domestic_gross  \\\n",
       "0                                  Toy Story 3     BV     415000000.0   \n",
       "1                   Alice in Wonderland (2010)     BV     334200000.0   \n",
       "2  Harry Potter and the Deathly Hallows Part 1     WB     296000000.0   \n",
       "3                                    Inception     WB     292600000.0   \n",
       "4                          Shrek Forever After   P/DW     238700000.0   \n",
       "\n",
       "  foreign_gross  year  \n",
       "0     652000000  2010  \n",
       "1     691300000  2010  \n",
       "2     664300000  2010  \n",
       "3     535700000  2010  \n",
       "4     513900000  2010  "
      ]
     },
     "execution_count": 7,
     "metadata": {},
     "output_type": "execute_result"
    }
   ],
   "source": [
    "# read movie_gross cleaned as a group\n",
    "movie_gross= pd.read_csv(\"C:/Users/DELL/Desktop/Moringa projects/DSF_PT08P2_Phase_2_Project_Grp_1_Final/Data/bom_movie_gross.csv\")\n",
    "movie_gross.head()"
   ]
  },
  {
   "cell_type": "code",
   "execution_count": 6,
   "metadata": {},
   "outputs": [
    {
     "data": {
      "text/html": [
       "<div>\n",
       "<style scoped>\n",
       "    .dataframe tbody tr th:only-of-type {\n",
       "        vertical-align: middle;\n",
       "    }\n",
       "\n",
       "    .dataframe tbody tr th {\n",
       "        vertical-align: top;\n",
       "    }\n",
       "\n",
       "    .dataframe thead th {\n",
       "        text-align: right;\n",
       "    }\n",
       "</style>\n",
       "<table border=\"1\" class=\"dataframe\">\n",
       "  <thead>\n",
       "    <tr style=\"text-align: right;\">\n",
       "      <th></th>\n",
       "      <th>id</th>\n",
       "      <th>release_date</th>\n",
       "      <th>movie</th>\n",
       "      <th>production_budget</th>\n",
       "      <th>domestic_gross</th>\n",
       "      <th>worldwide_gross</th>\n",
       "    </tr>\n",
       "  </thead>\n",
       "  <tbody>\n",
       "    <tr>\n",
       "      <th>0</th>\n",
       "      <td>1</td>\n",
       "      <td>Dec 18, 2009</td>\n",
       "      <td>Avatar</td>\n",
       "      <td>$425,000,000</td>\n",
       "      <td>$760,507,625</td>\n",
       "      <td>$2,776,345,279</td>\n",
       "    </tr>\n",
       "    <tr>\n",
       "      <th>1</th>\n",
       "      <td>2</td>\n",
       "      <td>May 20, 2011</td>\n",
       "      <td>Pirates of the Caribbean: On Stranger Tides</td>\n",
       "      <td>$410,600,000</td>\n",
       "      <td>$241,063,875</td>\n",
       "      <td>$1,045,663,875</td>\n",
       "    </tr>\n",
       "    <tr>\n",
       "      <th>2</th>\n",
       "      <td>3</td>\n",
       "      <td>Jun 7, 2019</td>\n",
       "      <td>Dark Phoenix</td>\n",
       "      <td>$350,000,000</td>\n",
       "      <td>$42,762,350</td>\n",
       "      <td>$149,762,350</td>\n",
       "    </tr>\n",
       "    <tr>\n",
       "      <th>3</th>\n",
       "      <td>4</td>\n",
       "      <td>May 1, 2015</td>\n",
       "      <td>Avengers: Age of Ultron</td>\n",
       "      <td>$330,600,000</td>\n",
       "      <td>$459,005,868</td>\n",
       "      <td>$1,403,013,963</td>\n",
       "    </tr>\n",
       "    <tr>\n",
       "      <th>4</th>\n",
       "      <td>5</td>\n",
       "      <td>Dec 15, 2017</td>\n",
       "      <td>Star Wars Ep. VIII: The Last Jedi</td>\n",
       "      <td>$317,000,000</td>\n",
       "      <td>$620,181,382</td>\n",
       "      <td>$1,316,721,747</td>\n",
       "    </tr>\n",
       "  </tbody>\n",
       "</table>\n",
       "</div>"
      ],
      "text/plain": [
       "   id  release_date                                        movie  \\\n",
       "0   1  Dec 18, 2009                                       Avatar   \n",
       "1   2  May 20, 2011  Pirates of the Caribbean: On Stranger Tides   \n",
       "2   3   Jun 7, 2019                                 Dark Phoenix   \n",
       "3   4   May 1, 2015                      Avengers: Age of Ultron   \n",
       "4   5  Dec 15, 2017            Star Wars Ep. VIII: The Last Jedi   \n",
       "\n",
       "  production_budget domestic_gross worldwide_gross  \n",
       "0      $425,000,000   $760,507,625  $2,776,345,279  \n",
       "1      $410,600,000   $241,063,875  $1,045,663,875  \n",
       "2      $350,000,000    $42,762,350    $149,762,350  \n",
       "3      $330,600,000   $459,005,868  $1,403,013,963  \n",
       "4      $317,000,000   $620,181,382  $1,316,721,747  "
      ]
     },
     "execution_count": 6,
     "metadata": {},
     "output_type": "execute_result"
    }
   ],
   "source": [
    "movie_budget = pd.read_csv(\"C:/Users/DELL/Desktop/Moringa projects/DSF_PT08P2_Phase_2_Project_Grp_1_Final/Data/tn_movie_budgets.csv\")\n",
    "movie_budget.head()"
   ]
  },
  {
   "cell_type": "code",
   "execution_count": 5,
   "metadata": {},
   "outputs": [
    {
     "data": {
      "text/html": [
       "<div>\n",
       "<style scoped>\n",
       "    .dataframe tbody tr th:only-of-type {\n",
       "        vertical-align: middle;\n",
       "    }\n",
       "\n",
       "    .dataframe tbody tr th {\n",
       "        vertical-align: top;\n",
       "    }\n",
       "\n",
       "    .dataframe thead th {\n",
       "        text-align: right;\n",
       "    }\n",
       "</style>\n",
       "<table border=\"1\" class=\"dataframe\">\n",
       "  <thead>\n",
       "    <tr style=\"text-align: right;\">\n",
       "      <th></th>\n",
       "      <th>Unnamed: 0</th>\n",
       "      <th>genre_ids</th>\n",
       "      <th>id</th>\n",
       "      <th>original_language</th>\n",
       "      <th>original_title</th>\n",
       "      <th>popularity</th>\n",
       "      <th>release_date</th>\n",
       "      <th>title</th>\n",
       "      <th>vote_average</th>\n",
       "      <th>vote_count</th>\n",
       "    </tr>\n",
       "  </thead>\n",
       "  <tbody>\n",
       "    <tr>\n",
       "      <th>0</th>\n",
       "      <td>0</td>\n",
       "      <td>[12, 14, 10751]</td>\n",
       "      <td>12444</td>\n",
       "      <td>en</td>\n",
       "      <td>Harry Potter and the Deathly Hallows: Part 1</td>\n",
       "      <td>33.533</td>\n",
       "      <td>19/11/2010</td>\n",
       "      <td>Harry Potter and the Deathly Hallows: Part 1</td>\n",
       "      <td>7.7</td>\n",
       "      <td>10788</td>\n",
       "    </tr>\n",
       "    <tr>\n",
       "      <th>1</th>\n",
       "      <td>1</td>\n",
       "      <td>[14, 12, 16, 10751]</td>\n",
       "      <td>10191</td>\n",
       "      <td>en</td>\n",
       "      <td>How to Train Your Dragon</td>\n",
       "      <td>28.734</td>\n",
       "      <td>26/03/2010</td>\n",
       "      <td>How to Train Your Dragon</td>\n",
       "      <td>7.7</td>\n",
       "      <td>7610</td>\n",
       "    </tr>\n",
       "    <tr>\n",
       "      <th>2</th>\n",
       "      <td>2</td>\n",
       "      <td>[12, 28, 878]</td>\n",
       "      <td>10138</td>\n",
       "      <td>en</td>\n",
       "      <td>Iron Man 2</td>\n",
       "      <td>28.515</td>\n",
       "      <td>07/05/2010</td>\n",
       "      <td>Iron Man 2</td>\n",
       "      <td>6.8</td>\n",
       "      <td>12368</td>\n",
       "    </tr>\n",
       "    <tr>\n",
       "      <th>3</th>\n",
       "      <td>3</td>\n",
       "      <td>[16, 35, 10751]</td>\n",
       "      <td>862</td>\n",
       "      <td>en</td>\n",
       "      <td>Toy Story</td>\n",
       "      <td>28.005</td>\n",
       "      <td>22/11/1995</td>\n",
       "      <td>Toy Story</td>\n",
       "      <td>7.9</td>\n",
       "      <td>10174</td>\n",
       "    </tr>\n",
       "    <tr>\n",
       "      <th>4</th>\n",
       "      <td>4</td>\n",
       "      <td>[28, 878, 12]</td>\n",
       "      <td>27205</td>\n",
       "      <td>en</td>\n",
       "      <td>Inception</td>\n",
       "      <td>27.920</td>\n",
       "      <td>16/07/2010</td>\n",
       "      <td>Inception</td>\n",
       "      <td>8.3</td>\n",
       "      <td>22186</td>\n",
       "    </tr>\n",
       "  </tbody>\n",
       "</table>\n",
       "</div>"
      ],
      "text/plain": [
       "   Unnamed: 0            genre_ids     id original_language  \\\n",
       "0           0      [12, 14, 10751]  12444                en   \n",
       "1           1  [14, 12, 16, 10751]  10191                en   \n",
       "2           2        [12, 28, 878]  10138                en   \n",
       "3           3      [16, 35, 10751]    862                en   \n",
       "4           4        [28, 878, 12]  27205                en   \n",
       "\n",
       "                                 original_title  popularity release_date  \\\n",
       "0  Harry Potter and the Deathly Hallows: Part 1      33.533   19/11/2010   \n",
       "1                      How to Train Your Dragon      28.734   26/03/2010   \n",
       "2                                    Iron Man 2      28.515   07/05/2010   \n",
       "3                                     Toy Story      28.005   22/11/1995   \n",
       "4                                     Inception      27.920   16/07/2010   \n",
       "\n",
       "                                          title  vote_average  vote_count  \n",
       "0  Harry Potter and the Deathly Hallows: Part 1           7.7       10788  \n",
       "1                      How to Train Your Dragon           7.7        7610  \n",
       "2                                    Iron Man 2           6.8       12368  \n",
       "3                                     Toy Story           7.9       10174  \n",
       "4                                     Inception           8.3       22186  "
      ]
     },
     "execution_count": 5,
     "metadata": {},
     "output_type": "execute_result"
    }
   ],
   "source": [
    "movie_details = pd.read_csv(\"C:/Users/DELL/Desktop/Moringa projects/DSF_PT08P2_Phase_2_Project_Grp_1_Final/Data/tmdb_movies.csv\")\n",
    "movie_details.head()"
   ]
  },
  {
   "cell_type": "code",
   "execution_count": 4,
   "metadata": {},
   "outputs": [
    {
     "data": {
      "text/html": [
       "<div>\n",
       "<style scoped>\n",
       "    .dataframe tbody tr th:only-of-type {\n",
       "        vertical-align: middle;\n",
       "    }\n",
       "\n",
       "    .dataframe tbody tr th {\n",
       "        vertical-align: top;\n",
       "    }\n",
       "\n",
       "    .dataframe thead th {\n",
       "        text-align: right;\n",
       "    }\n",
       "</style>\n",
       "<table border=\"1\" class=\"dataframe\">\n",
       "  <thead>\n",
       "    <tr style=\"text-align: right;\">\n",
       "      <th></th>\n",
       "      <th>id</th>\n",
       "      <th>review</th>\n",
       "      <th>rating</th>\n",
       "      <th>fresh</th>\n",
       "      <th>critic</th>\n",
       "      <th>top_critic</th>\n",
       "      <th>publisher</th>\n",
       "      <th>date</th>\n",
       "    </tr>\n",
       "  </thead>\n",
       "  <tbody>\n",
       "    <tr>\n",
       "      <th>0</th>\n",
       "      <td>3</td>\n",
       "      <td>A distinctly gallows take on contemporary fina...</td>\n",
       "      <td>3/5</td>\n",
       "      <td>fresh</td>\n",
       "      <td>PJ Nabarro</td>\n",
       "      <td>0</td>\n",
       "      <td>Patrick Nabarro</td>\n",
       "      <td>November 10, 2018</td>\n",
       "    </tr>\n",
       "    <tr>\n",
       "      <th>1</th>\n",
       "      <td>3</td>\n",
       "      <td>It's an allegory in search of a meaning that n...</td>\n",
       "      <td>NaN</td>\n",
       "      <td>rotten</td>\n",
       "      <td>Annalee Newitz</td>\n",
       "      <td>0</td>\n",
       "      <td>io9.com</td>\n",
       "      <td>May 23, 2018</td>\n",
       "    </tr>\n",
       "    <tr>\n",
       "      <th>2</th>\n",
       "      <td>3</td>\n",
       "      <td>... life lived in a bubble in financial dealin...</td>\n",
       "      <td>NaN</td>\n",
       "      <td>fresh</td>\n",
       "      <td>Sean Axmaker</td>\n",
       "      <td>0</td>\n",
       "      <td>Stream on Demand</td>\n",
       "      <td>January 4, 2018</td>\n",
       "    </tr>\n",
       "    <tr>\n",
       "      <th>3</th>\n",
       "      <td>3</td>\n",
       "      <td>Continuing along a line introduced in last yea...</td>\n",
       "      <td>NaN</td>\n",
       "      <td>fresh</td>\n",
       "      <td>Daniel Kasman</td>\n",
       "      <td>0</td>\n",
       "      <td>MUBI</td>\n",
       "      <td>November 16, 2017</td>\n",
       "    </tr>\n",
       "    <tr>\n",
       "      <th>4</th>\n",
       "      <td>3</td>\n",
       "      <td>... a perverse twist on neorealism...</td>\n",
       "      <td>NaN</td>\n",
       "      <td>fresh</td>\n",
       "      <td>NaN</td>\n",
       "      <td>0</td>\n",
       "      <td>Cinema Scope</td>\n",
       "      <td>October 12, 2017</td>\n",
       "    </tr>\n",
       "  </tbody>\n",
       "</table>\n",
       "</div>"
      ],
      "text/plain": [
       "   id                                             review rating   fresh  \\\n",
       "0   3  A distinctly gallows take on contemporary fina...    3/5   fresh   \n",
       "1   3  It's an allegory in search of a meaning that n...    NaN  rotten   \n",
       "2   3  ... life lived in a bubble in financial dealin...    NaN   fresh   \n",
       "3   3  Continuing along a line introduced in last yea...    NaN   fresh   \n",
       "4   3             ... a perverse twist on neorealism...     NaN   fresh   \n",
       "\n",
       "           critic  top_critic         publisher               date  \n",
       "0      PJ Nabarro           0   Patrick Nabarro  November 10, 2018  \n",
       "1  Annalee Newitz           0           io9.com       May 23, 2018  \n",
       "2    Sean Axmaker           0  Stream on Demand    January 4, 2018  \n",
       "3   Daniel Kasman           0              MUBI  November 16, 2017  \n",
       "4             NaN           0      Cinema Scope   October 12, 2017  "
      ]
     },
     "execution_count": 4,
     "metadata": {},
     "output_type": "execute_result"
    }
   ],
   "source": [
    "reviews = pd.read_csv(\"C:/Users/DELL/Desktop/Moringa projects/DSF_PT08P2_Phase_2_Project_Grp_1_Final/Data/rt.reviews.tsv\", sep='\\t', encoding='ISO-8859-1')\n",
    "reviews.head()"
   ]
  },
  {
   "cell_type": "code",
   "execution_count": 8,
   "metadata": {},
   "outputs": [
    {
     "data": {
      "text/html": [
       "<div>\n",
       "<style scoped>\n",
       "    .dataframe tbody tr th:only-of-type {\n",
       "        vertical-align: middle;\n",
       "    }\n",
       "\n",
       "    .dataframe tbody tr th {\n",
       "        vertical-align: top;\n",
       "    }\n",
       "\n",
       "    .dataframe thead th {\n",
       "        text-align: right;\n",
       "    }\n",
       "</style>\n",
       "<table border=\"1\" class=\"dataframe\">\n",
       "  <thead>\n",
       "    <tr style=\"text-align: right;\">\n",
       "      <th></th>\n",
       "      <th>id</th>\n",
       "      <th>synopsis</th>\n",
       "      <th>rating</th>\n",
       "      <th>genre</th>\n",
       "      <th>director</th>\n",
       "      <th>writer</th>\n",
       "      <th>theater_date</th>\n",
       "      <th>dvd_date</th>\n",
       "      <th>currency</th>\n",
       "      <th>box_office</th>\n",
       "      <th>runtime</th>\n",
       "      <th>studio</th>\n",
       "    </tr>\n",
       "  </thead>\n",
       "  <tbody>\n",
       "    <tr>\n",
       "      <th>0</th>\n",
       "      <td>1</td>\n",
       "      <td>This gritty, fast-paced, and innovative police...</td>\n",
       "      <td>R</td>\n",
       "      <td>Action and Adventure|Classics|Drama</td>\n",
       "      <td>William Friedkin</td>\n",
       "      <td>Ernest Tidyman</td>\n",
       "      <td>Oct 9, 1971</td>\n",
       "      <td>Sep 25, 2001</td>\n",
       "      <td>NaN</td>\n",
       "      <td>NaN</td>\n",
       "      <td>104 minutes</td>\n",
       "      <td>NaN</td>\n",
       "    </tr>\n",
       "    <tr>\n",
       "      <th>1</th>\n",
       "      <td>3</td>\n",
       "      <td>New York City, not-too-distant-future: Eric Pa...</td>\n",
       "      <td>R</td>\n",
       "      <td>Drama|Science Fiction and Fantasy</td>\n",
       "      <td>David Cronenberg</td>\n",
       "      <td>David Cronenberg|Don DeLillo</td>\n",
       "      <td>Aug 17, 2012</td>\n",
       "      <td>Jan 1, 2013</td>\n",
       "      <td>$</td>\n",
       "      <td>600,000</td>\n",
       "      <td>108 minutes</td>\n",
       "      <td>Entertainment One</td>\n",
       "    </tr>\n",
       "    <tr>\n",
       "      <th>2</th>\n",
       "      <td>5</td>\n",
       "      <td>Illeana Douglas delivers a superb performance ...</td>\n",
       "      <td>R</td>\n",
       "      <td>Drama|Musical and Performing Arts</td>\n",
       "      <td>Allison Anders</td>\n",
       "      <td>Allison Anders</td>\n",
       "      <td>Sep 13, 1996</td>\n",
       "      <td>Apr 18, 2000</td>\n",
       "      <td>NaN</td>\n",
       "      <td>NaN</td>\n",
       "      <td>116 minutes</td>\n",
       "      <td>NaN</td>\n",
       "    </tr>\n",
       "    <tr>\n",
       "      <th>3</th>\n",
       "      <td>6</td>\n",
       "      <td>Michael Douglas runs afoul of a treacherous su...</td>\n",
       "      <td>R</td>\n",
       "      <td>Drama|Mystery and Suspense</td>\n",
       "      <td>Barry Levinson</td>\n",
       "      <td>Paul Attanasio|Michael Crichton</td>\n",
       "      <td>Dec 9, 1994</td>\n",
       "      <td>Aug 27, 1997</td>\n",
       "      <td>NaN</td>\n",
       "      <td>NaN</td>\n",
       "      <td>128 minutes</td>\n",
       "      <td>NaN</td>\n",
       "    </tr>\n",
       "    <tr>\n",
       "      <th>4</th>\n",
       "      <td>7</td>\n",
       "      <td>NaN</td>\n",
       "      <td>NR</td>\n",
       "      <td>Drama|Romance</td>\n",
       "      <td>Rodney Bennett</td>\n",
       "      <td>Giles Cooper</td>\n",
       "      <td>NaN</td>\n",
       "      <td>NaN</td>\n",
       "      <td>NaN</td>\n",
       "      <td>NaN</td>\n",
       "      <td>200 minutes</td>\n",
       "      <td>NaN</td>\n",
       "    </tr>\n",
       "  </tbody>\n",
       "</table>\n",
       "</div>"
      ],
      "text/plain": [
       "   id                                           synopsis rating  \\\n",
       "0   1  This gritty, fast-paced, and innovative police...      R   \n",
       "1   3  New York City, not-too-distant-future: Eric Pa...      R   \n",
       "2   5  Illeana Douglas delivers a superb performance ...      R   \n",
       "3   6  Michael Douglas runs afoul of a treacherous su...      R   \n",
       "4   7                                                NaN     NR   \n",
       "\n",
       "                                 genre          director  \\\n",
       "0  Action and Adventure|Classics|Drama  William Friedkin   \n",
       "1    Drama|Science Fiction and Fantasy  David Cronenberg   \n",
       "2    Drama|Musical and Performing Arts    Allison Anders   \n",
       "3           Drama|Mystery and Suspense    Barry Levinson   \n",
       "4                        Drama|Romance    Rodney Bennett   \n",
       "\n",
       "                            writer  theater_date      dvd_date currency  \\\n",
       "0                   Ernest Tidyman   Oct 9, 1971  Sep 25, 2001      NaN   \n",
       "1     David Cronenberg|Don DeLillo  Aug 17, 2012   Jan 1, 2013        $   \n",
       "2                   Allison Anders  Sep 13, 1996  Apr 18, 2000      NaN   \n",
       "3  Paul Attanasio|Michael Crichton   Dec 9, 1994  Aug 27, 1997      NaN   \n",
       "4                     Giles Cooper           NaN           NaN      NaN   \n",
       "\n",
       "  box_office      runtime             studio  \n",
       "0        NaN  104 minutes                NaN  \n",
       "1    600,000  108 minutes  Entertainment One  \n",
       "2        NaN  116 minutes                NaN  \n",
       "3        NaN  128 minutes                NaN  \n",
       "4        NaN  200 minutes                NaN  "
      ]
     },
     "execution_count": 8,
     "metadata": {},
     "output_type": "execute_result"
    }
   ],
   "source": [
    "movie_info = pd.read_csv(\"C:/Users/DELL/Desktop/Moringa projects/DSF_PT08P2_Phase_2_Project_Grp_1_Final/Data/rt.movie_info.tsv\", sep='\\t', encoding='ISO-8859-1')\n",
    "movie_info.head()"
   ]
  },
  {
   "cell_type": "markdown",
   "metadata": {},
   "source": [
    "# Checking for null values"
   ]
  },
  {
   "cell_type": "code",
   "execution_count": 9,
   "metadata": {},
   "outputs": [
    {
     "name": "stdout",
     "output_type": "stream",
     "text": [
      "<class 'pandas.core.frame.DataFrame'>\n",
      "RangeIndex: 3387 entries, 0 to 3386\n",
      "Data columns (total 5 columns):\n",
      " #   Column          Non-Null Count  Dtype  \n",
      "---  ------          --------------  -----  \n",
      " 0   title           3387 non-null   object \n",
      " 1   studio          3382 non-null   object \n",
      " 2   domestic_gross  3359 non-null   float64\n",
      " 3   foreign_gross   2037 non-null   object \n",
      " 4   year            3387 non-null   int64  \n",
      "dtypes: float64(1), int64(1), object(3)\n",
      "memory usage: 132.4+ KB\n"
     ]
    }
   ],
   "source": [
    "movie_gross.info()"
   ]
  },
  {
   "cell_type": "code",
   "execution_count": 10,
   "metadata": {},
   "outputs": [
    {
     "name": "stdout",
     "output_type": "stream",
     "text": [
      "<class 'pandas.core.frame.DataFrame'>\n",
      "RangeIndex: 5782 entries, 0 to 5781\n",
      "Data columns (total 6 columns):\n",
      " #   Column             Non-Null Count  Dtype \n",
      "---  ------             --------------  ----- \n",
      " 0   id                 5782 non-null   int64 \n",
      " 1   release_date       5782 non-null   object\n",
      " 2   movie              5782 non-null   object\n",
      " 3   production_budget  5782 non-null   object\n",
      " 4   domestic_gross     5782 non-null   object\n",
      " 5   worldwide_gross    5782 non-null   object\n",
      "dtypes: int64(1), object(5)\n",
      "memory usage: 271.2+ KB\n"
     ]
    }
   ],
   "source": [
    "movie_budget.info()"
   ]
  },
  {
   "cell_type": "code",
   "execution_count": 11,
   "metadata": {},
   "outputs": [
    {
     "name": "stdout",
     "output_type": "stream",
     "text": [
      "<class 'pandas.core.frame.DataFrame'>\n",
      "RangeIndex: 26517 entries, 0 to 26516\n",
      "Data columns (total 10 columns):\n",
      " #   Column             Non-Null Count  Dtype  \n",
      "---  ------             --------------  -----  \n",
      " 0   Unnamed: 0         26517 non-null  int64  \n",
      " 1   genre_ids          26517 non-null  object \n",
      " 2   id                 26517 non-null  int64  \n",
      " 3   original_language  26517 non-null  object \n",
      " 4   original_title     26517 non-null  object \n",
      " 5   popularity         26517 non-null  float64\n",
      " 6   release_date       26517 non-null  object \n",
      " 7   title              26517 non-null  object \n",
      " 8   vote_average       26517 non-null  float64\n",
      " 9   vote_count         26517 non-null  int64  \n",
      "dtypes: float64(2), int64(3), object(5)\n",
      "memory usage: 2.0+ MB\n"
     ]
    }
   ],
   "source": [
    "movie_details.info()"
   ]
  },
  {
   "cell_type": "code",
   "execution_count": 12,
   "metadata": {},
   "outputs": [
    {
     "name": "stdout",
     "output_type": "stream",
     "text": [
      "<class 'pandas.core.frame.DataFrame'>\n",
      "RangeIndex: 54432 entries, 0 to 54431\n",
      "Data columns (total 8 columns):\n",
      " #   Column      Non-Null Count  Dtype \n",
      "---  ------      --------------  ----- \n",
      " 0   id          54432 non-null  int64 \n",
      " 1   review      48869 non-null  object\n",
      " 2   rating      40915 non-null  object\n",
      " 3   fresh       54432 non-null  object\n",
      " 4   critic      51710 non-null  object\n",
      " 5   top_critic  54432 non-null  int64 \n",
      " 6   publisher   54123 non-null  object\n",
      " 7   date        54432 non-null  object\n",
      "dtypes: int64(2), object(6)\n",
      "memory usage: 3.3+ MB\n"
     ]
    }
   ],
   "source": [
    "reviews.info()"
   ]
  },
  {
   "cell_type": "code",
   "execution_count": 13,
   "metadata": {},
   "outputs": [
    {
     "name": "stdout",
     "output_type": "stream",
     "text": [
      "<class 'pandas.core.frame.DataFrame'>\n",
      "RangeIndex: 1560 entries, 0 to 1559\n",
      "Data columns (total 12 columns):\n",
      " #   Column        Non-Null Count  Dtype \n",
      "---  ------        --------------  ----- \n",
      " 0   id            1560 non-null   int64 \n",
      " 1   synopsis      1498 non-null   object\n",
      " 2   rating        1557 non-null   object\n",
      " 3   genre         1552 non-null   object\n",
      " 4   director      1361 non-null   object\n",
      " 5   writer        1111 non-null   object\n",
      " 6   theater_date  1201 non-null   object\n",
      " 7   dvd_date      1201 non-null   object\n",
      " 8   currency      340 non-null    object\n",
      " 9   box_office    340 non-null    object\n",
      " 10  runtime       1530 non-null   object\n",
      " 11  studio        494 non-null    object\n",
      "dtypes: int64(1), object(11)\n",
      "memory usage: 146.4+ KB\n"
     ]
    }
   ],
   "source": [
    "movie_info.info()"
   ]
  },
  {
   "cell_type": "markdown",
   "metadata": {},
   "source": [
    "- For the null values i decided not to drop or fill them because in movie data some things do not have every category filled or recorded."
   ]
  },
  {
   "cell_type": "markdown",
   "metadata": {},
   "source": [
    "# Focus Question 1\n",
    "## Content and Genre Trends\n",
    "\n",
    "* What are the top-performing genres this year, and how have they shifted over recent years?\n",
    "* How can we ensure that our content aligns with current audience preferences while still offering something unique? "
   ]
  },
  {
   "cell_type": "code",
   "execution_count": 17,
   "metadata": {},
   "outputs": [
    {
     "name": "stderr",
     "output_type": "stream",
     "text": [
      "C:\\Users\\DELL\\AppData\\Local\\Temp\\ipykernel_6428\\2251211134.py:12: UserWarning: Parsing dates in %d/%m/%Y format when dayfirst=False (the default) was specified. Pass `dayfirst=True` or specify a format to silence this warning.\n",
      "  tmdb_movies['release_date'] = pd.to_datetime(tmdb_movies['release_date'], errors='coerce')\n"
     ]
    },
    {
     "data": {
      "application/vnd.plotly.v1+json": {
       "config": {
        "plotlyServerURL": "https://plot.ly"
       },
       "data": [
        {
         "hovertemplate": "Genre= 80<br>release_year=%{x}<br>Popularity=%{y}<extra></extra>",
         "legendgroup": " 80",
         "line": {
          "color": "#636efa",
          "dash": "solid"
         },
         "marker": {
          "symbol": "circle"
         },
         "mode": "lines",
         "name": " 80",
         "orientation": "v",
         "showlegend": true,
         "type": "scatter",
         "x": [
          1930,
          1933,
          1936,
          1939,
          1946,
          1949,
          1956,
          1957,
          1958,
          1959,
          1960,
          1961,
          1962,
          1964,
          1965,
          1966,
          1967,
          1968,
          1970,
          1972,
          1974,
          1975,
          1976,
          1977,
          1978,
          1979,
          1980,
          1981,
          1982,
          1983,
          1984,
          1985,
          1986,
          1987,
          1988,
          1989,
          1991,
          1992,
          1993,
          1994,
          1995,
          1996,
          1997,
          1998,
          1999,
          2000,
          2001,
          2002,
          2003,
          2004,
          2005,
          2006,
          2007,
          2008,
          2009,
          2010,
          2011,
          2012,
          2013,
          2014,
          2015,
          2016,
          2017,
          2018,
          2019,
          2020
         ],
         "xaxis": "x",
         "y": [
          0,
          0,
          0,
          0,
          0,
          0,
          0,
          0,
          0,
          0,
          0,
          0,
          0,
          0,
          0,
          0,
          0,
          0,
          0,
          0,
          0,
          0,
          0,
          0,
          0,
          0,
          14.882,
          0,
          0,
          6.306,
          16.392,
          0,
          0.946,
          0,
          3.8804999999999996,
          0,
          8.8675,
          0,
          0,
          0,
          13.966333333333333,
          16.064,
          0,
          0,
          0,
          0,
          0,
          0,
          0,
          19.127,
          10.215,
          0,
          0,
          0,
          4.3865,
          5.385934782608696,
          4.975522222222223,
          5.400810126582278,
          6.072935185185185,
          4.831654205607476,
          4.788147540983607,
          5.0374384615384615,
          5.563341666666667,
          8.37814563106796,
          7.547999999999999,
          0.84
         ],
         "yaxis": "y"
        },
        {
         "hovertemplate": "Genre=27<br>release_year=%{x}<br>Popularity=%{y}<extra></extra>",
         "legendgroup": "27",
         "line": {
          "color": "#EF553B",
          "dash": "solid"
         },
         "marker": {
          "symbol": "circle"
         },
         "mode": "lines",
         "name": "27",
         "orientation": "v",
         "showlegend": true,
         "type": "scatter",
         "x": [
          1930,
          1933,
          1936,
          1939,
          1946,
          1949,
          1956,
          1957,
          1958,
          1959,
          1960,
          1961,
          1962,
          1964,
          1965,
          1966,
          1967,
          1968,
          1970,
          1972,
          1974,
          1975,
          1976,
          1977,
          1978,
          1979,
          1980,
          1981,
          1982,
          1983,
          1984,
          1985,
          1986,
          1987,
          1988,
          1989,
          1991,
          1992,
          1993,
          1994,
          1995,
          1996,
          1997,
          1998,
          1999,
          2000,
          2001,
          2002,
          2003,
          2004,
          2005,
          2006,
          2007,
          2008,
          2009,
          2010,
          2011,
          2012,
          2013,
          2014,
          2015,
          2016,
          2017,
          2018,
          2019,
          2020
         ],
         "xaxis": "x",
         "y": [
          0,
          2.292,
          0,
          0,
          0,
          0,
          0,
          0,
          0,
          0,
          0,
          0,
          0,
          0,
          0,
          0,
          0,
          0,
          0,
          1.504,
          0,
          0,
          9.467,
          0,
          0,
          0,
          2.7169999999999996,
          0,
          0,
          0,
          0,
          0,
          0.946,
          0,
          0,
          0,
          0,
          0,
          0,
          0,
          7.339,
          16.064,
          0,
          17.175,
          0,
          0,
          0,
          0,
          0,
          17.192999999999998,
          0,
          0,
          2.7805,
          0,
          2.024,
          2.670577540106952,
          2.8333796296296296,
          2.8047943548387093,
          2.7387370517928287,
          3.237397379912664,
          2.695869230769231,
          2.83756652360515,
          3.2093356401384083,
          3.894700361010831,
          6.600666666666666,
          0.84
         ],
         "yaxis": "y"
        },
        {
         "hovertemplate": "Genre=<br>release_year=%{x}<br>Popularity=%{y}<extra></extra>",
         "legendgroup": "",
         "line": {
          "color": "#00cc96",
          "dash": "solid"
         },
         "marker": {
          "symbol": "circle"
         },
         "mode": "lines",
         "name": "",
         "orientation": "v",
         "showlegend": false,
         "type": "scatter",
         "x": [
          1930,
          1933,
          1936,
          1939,
          1946,
          1949,
          1956,
          1957,
          1958,
          1959,
          1960,
          1961,
          1962,
          1964,
          1965,
          1966,
          1967,
          1968,
          1970,
          1972,
          1974,
          1975,
          1976,
          1977,
          1978,
          1979,
          1980,
          1981,
          1982,
          1983,
          1984,
          1985,
          1986,
          1987,
          1988,
          1989,
          1991,
          1992,
          1993,
          1994,
          1995,
          1996,
          1997,
          1998,
          1999,
          2000,
          2001,
          2002,
          2003,
          2004,
          2005,
          2006,
          2007,
          2008,
          2009,
          2010,
          2011,
          2012,
          2013,
          2014,
          2015,
          2016,
          2017,
          2018,
          2019,
          2020
         ],
         "xaxis": "x",
         "y": [
          0,
          0,
          0,
          0.6,
          0,
          0,
          0,
          0,
          0,
          0,
          0,
          0,
          0,
          0,
          0,
          0,
          0,
          0,
          1.795,
          0,
          0,
          0,
          0,
          0,
          0,
          0,
          0,
          0,
          0,
          0,
          0,
          0,
          0,
          0,
          0,
          0,
          0,
          0,
          0,
          0,
          0,
          0.6,
          0,
          0,
          0,
          0,
          0,
          0,
          0,
          0,
          0,
          0.6,
          0.6,
          0,
          0,
          0.769945205479452,
          0.7327058823529411,
          0.757966565349544,
          0.7325254237288136,
          0.7178309859154929,
          0.7487124183006536,
          0.7345690376569037,
          0.7545273631840795,
          1.133140186915888,
          0,
          0
         ],
         "yaxis": "y"
        },
        {
         "hovertemplate": "Genre= 10751<br>release_year=%{x}<br>Popularity=%{y}<extra></extra>",
         "legendgroup": " 10751",
         "line": {
          "color": "#ab63fa",
          "dash": "solid"
         },
         "marker": {
          "symbol": "circle"
         },
         "mode": "lines",
         "name": " 10751",
         "orientation": "v",
         "showlegend": true,
         "type": "scatter",
         "x": [
          1930,
          1933,
          1936,
          1939,
          1946,
          1949,
          1956,
          1957,
          1958,
          1959,
          1960,
          1961,
          1962,
          1964,
          1965,
          1966,
          1967,
          1968,
          1970,
          1972,
          1974,
          1975,
          1976,
          1977,
          1978,
          1979,
          1980,
          1981,
          1982,
          1983,
          1984,
          1985,
          1986,
          1987,
          1988,
          1989,
          1991,
          1992,
          1993,
          1994,
          1995,
          1996,
          1997,
          1998,
          1999,
          2000,
          2001,
          2002,
          2003,
          2004,
          2005,
          2006,
          2007,
          2008,
          2009,
          2010,
          2011,
          2012,
          2013,
          2014,
          2015,
          2016,
          2017,
          2018,
          2019,
          2020
         ],
         "xaxis": "x",
         "y": [
          0,
          0,
          0,
          0,
          0,
          0,
          0,
          0,
          0,
          0,
          0,
          1.319,
          0,
          0,
          0,
          0,
          0,
          0,
          0,
          0,
          0,
          0,
          0,
          0,
          0,
          0,
          0,
          0,
          0,
          1.226,
          0,
          0,
          10.347333333333333,
          0,
          15.031,
          0,
          0,
          0,
          0,
          0,
          28.005,
          0,
          0,
          0,
          15.332,
          3.416,
          0,
          32.043,
          0,
          14.362,
          0,
          1.671,
          0,
          5.1385,
          1.7543333333333333,
          6.0628373983739845,
          4.919054054054054,
          5.1284074074074075,
          4.482040322580645,
          4.488654135338345,
          4.598079365079364,
          5.861034782608695,
          6.42180412371134,
          6.682443396226415,
          2.024,
          0
         ],
         "yaxis": "y"
        },
        {
         "hovertemplate": "Genre= 10752<br>release_year=%{x}<br>Popularity=%{y}<extra></extra>",
         "legendgroup": " 10752",
         "line": {
          "color": "#FFA15A",
          "dash": "solid"
         },
         "marker": {
          "symbol": "circle"
         },
         "mode": "lines",
         "name": " 10752",
         "orientation": "v",
         "showlegend": true,
         "type": "scatter",
         "x": [
          1930,
          1933,
          1936,
          1939,
          1946,
          1949,
          1956,
          1957,
          1958,
          1959,
          1960,
          1961,
          1962,
          1964,
          1965,
          1966,
          1967,
          1968,
          1970,
          1972,
          1974,
          1975,
          1976,
          1977,
          1978,
          1979,
          1980,
          1981,
          1982,
          1983,
          1984,
          1985,
          1986,
          1987,
          1988,
          1989,
          1991,
          1992,
          1993,
          1994,
          1995,
          1996,
          1997,
          1998,
          1999,
          2000,
          2001,
          2002,
          2003,
          2004,
          2005,
          2006,
          2007,
          2008,
          2009,
          2010,
          2011,
          2012,
          2013,
          2014,
          2015,
          2016,
          2017,
          2018,
          2019,
          2020
         ],
         "xaxis": "x",
         "y": [
          9.583,
          0,
          0,
          0,
          0,
          0,
          0,
          0,
          0,
          0,
          0,
          0,
          0,
          0,
          0,
          0,
          0,
          0,
          0,
          0,
          0,
          0,
          0,
          0,
          0,
          0,
          0,
          0,
          16.554,
          0,
          0,
          0,
          0,
          0,
          0,
          0,
          0,
          0,
          25.334,
          0,
          0,
          0,
          0,
          0,
          0,
          0,
          10.886,
          0,
          0,
          0,
          0,
          0,
          0,
          0,
          0,
          3.880333333333333,
          3.2486,
          3.7121304347826087,
          3.585,
          6.563772727272727,
          3.9497692307692307,
          9.271285714285714,
          7.27009375,
          7.352047619047619,
          0,
          0
         ],
         "yaxis": "y"
        },
        {
         "hovertemplate": "Genre= 10402<br>release_year=%{x}<br>Popularity=%{y}<extra></extra>",
         "legendgroup": " 10402",
         "line": {
          "color": "#19d3f3",
          "dash": "solid"
         },
         "marker": {
          "symbol": "circle"
         },
         "mode": "lines",
         "name": " 10402",
         "orientation": "v",
         "showlegend": true,
         "type": "scatter",
         "x": [
          1930,
          1933,
          1936,
          1939,
          1946,
          1949,
          1956,
          1957,
          1958,
          1959,
          1960,
          1961,
          1962,
          1964,
          1965,
          1966,
          1967,
          1968,
          1970,
          1972,
          1974,
          1975,
          1976,
          1977,
          1978,
          1979,
          1980,
          1981,
          1982,
          1983,
          1984,
          1985,
          1986,
          1987,
          1988,
          1989,
          1991,
          1992,
          1993,
          1994,
          1995,
          1996,
          1997,
          1998,
          1999,
          2000,
          2001,
          2002,
          2003,
          2004,
          2005,
          2006,
          2007,
          2008,
          2009,
          2010,
          2011,
          2012,
          2013,
          2014,
          2015,
          2016,
          2017,
          2018,
          2019,
          2020
         ],
         "xaxis": "x",
         "y": [
          0,
          0,
          0,
          0,
          0,
          0,
          0,
          0,
          0,
          0,
          0,
          0,
          0,
          0,
          0,
          0,
          0,
          0,
          0,
          0,
          0.96,
          3.208,
          0,
          0,
          0,
          0,
          0.6,
          0,
          0,
          0,
          0,
          0,
          0,
          0,
          0,
          0,
          0,
          0,
          0,
          0,
          0,
          0,
          0,
          0,
          0,
          11.022,
          0,
          0,
          8.613,
          5.466,
          0,
          0,
          0,
          0,
          1.024,
          2.0601923076923074,
          2.49744,
          2.21674,
          2.7495208333333334,
          2.4082375,
          3.6013461538461535,
          3.0700000000000003,
          2.1906813186813188,
          4.64363768115942,
          7.2523333333333335,
          0
         ],
         "yaxis": "y"
        },
        {
         "hovertemplate": "Genre= 10749<br>release_year=%{x}<br>Popularity=%{y}<extra></extra>",
         "legendgroup": " 10749",
         "line": {
          "color": "#FF6692",
          "dash": "solid"
         },
         "marker": {
          "symbol": "circle"
         },
         "mode": "lines",
         "name": " 10749",
         "orientation": "v",
         "showlegend": true,
         "type": "scatter",
         "x": [
          1930,
          1933,
          1936,
          1939,
          1946,
          1949,
          1956,
          1957,
          1958,
          1959,
          1960,
          1961,
          1962,
          1964,
          1965,
          1966,
          1967,
          1968,
          1970,
          1972,
          1974,
          1975,
          1976,
          1977,
          1978,
          1979,
          1980,
          1981,
          1982,
          1983,
          1984,
          1985,
          1986,
          1987,
          1988,
          1989,
          1991,
          1992,
          1993,
          1994,
          1995,
          1996,
          1997,
          1998,
          1999,
          2000,
          2001,
          2002,
          2003,
          2004,
          2005,
          2006,
          2007,
          2008,
          2009,
          2010,
          2011,
          2012,
          2013,
          2014,
          2015,
          2016,
          2017,
          2018,
          2019,
          2020
         ],
         "xaxis": "x",
         "y": [
          0,
          0,
          1.653,
          0,
          9.647,
          0,
          0,
          0,
          5.754,
          14.2,
          0,
          0,
          2.316,
          8.227,
          0,
          0,
          0,
          0,
          0,
          0,
          0,
          3.208,
          0,
          0,
          0,
          0,
          0,
          0,
          0,
          0,
          11.883,
          0,
          0,
          0,
          15.031,
          0,
          0,
          9.155,
          0,
          0,
          0,
          0,
          0,
          1.036,
          24.491,
          0,
          0,
          0,
          6.121,
          10.332,
          0,
          0,
          0,
          1.436,
          2.1933333333333334,
          4.1997884615384615,
          4.001889400921659,
          4.308292397660819,
          3.6954033149171273,
          4.194634146341463,
          4.206342281879195,
          4.374575268817204,
          4.766325581395349,
          6.337543046357617,
          9.672,
          0
         ],
         "yaxis": "y"
        },
        {
         "hovertemplate": "Genre= 12<br>release_year=%{x}<br>Popularity=%{y}<extra></extra>",
         "legendgroup": " 12",
         "line": {
          "color": "#B6E880",
          "dash": "solid"
         },
         "marker": {
          "symbol": "circle"
         },
         "mode": "lines",
         "name": " 12",
         "orientation": "v",
         "showlegend": true,
         "type": "scatter",
         "x": [
          1930,
          1933,
          1936,
          1939,
          1946,
          1949,
          1956,
          1957,
          1958,
          1959,
          1960,
          1961,
          1962,
          1964,
          1965,
          1966,
          1967,
          1968,
          1970,
          1972,
          1974,
          1975,
          1976,
          1977,
          1978,
          1979,
          1980,
          1981,
          1982,
          1983,
          1984,
          1985,
          1986,
          1987,
          1988,
          1989,
          1991,
          1992,
          1993,
          1994,
          1995,
          1996,
          1997,
          1998,
          1999,
          2000,
          2001,
          2002,
          2003,
          2004,
          2005,
          2006,
          2007,
          2008,
          2009,
          2010,
          2011,
          2012,
          2013,
          2014,
          2015,
          2016,
          2017,
          2018,
          2019,
          2020
         ],
         "xaxis": "x",
         "y": [
          0,
          0,
          0,
          0,
          0,
          0,
          0,
          0,
          0,
          0,
          0,
          0,
          0,
          0,
          0,
          0,
          0,
          23.781,
          0,
          0,
          0,
          0,
          0,
          0,
          0,
          0,
          0,
          0,
          12.063,
          0,
          0,
          0,
          6.825,
          0,
          6.744,
          0,
          0,
          0,
          0,
          0,
          10.579,
          13.86,
          13.514,
          15.799,
          0,
          0,
          0,
          0,
          8.613,
          15.624500000000001,
          0,
          1.937,
          0,
          0,
          14.3755,
          6.1906923076923075,
          6.5871587301587295,
          7.83458208955224,
          6.351452991452992,
          7.2566999999999995,
          9.455445454545455,
          7.782227722772277,
          10.210770833333333,
          11.60358064516129,
          5.832,
          0
         ],
         "yaxis": "y"
        },
        {
         "hovertemplate": "Genre= 10770<br>release_year=%{x}<br>Popularity=%{y}<extra></extra>",
         "legendgroup": " 10770",
         "line": {
          "color": "#FF97FF",
          "dash": "solid"
         },
         "marker": {
          "symbol": "circle"
         },
         "mode": "lines",
         "name": " 10770",
         "orientation": "v",
         "showlegend": true,
         "type": "scatter",
         "x": [
          1930,
          1933,
          1936,
          1939,
          1946,
          1949,
          1956,
          1957,
          1958,
          1959,
          1960,
          1961,
          1962,
          1964,
          1965,
          1966,
          1967,
          1968,
          1970,
          1972,
          1974,
          1975,
          1976,
          1977,
          1978,
          1979,
          1980,
          1981,
          1982,
          1983,
          1984,
          1985,
          1986,
          1987,
          1988,
          1989,
          1991,
          1992,
          1993,
          1994,
          1995,
          1996,
          1997,
          1998,
          1999,
          2000,
          2001,
          2002,
          2003,
          2004,
          2005,
          2006,
          2007,
          2008,
          2009,
          2010,
          2011,
          2012,
          2013,
          2014,
          2015,
          2016,
          2017,
          2018,
          2019,
          2020
         ],
         "xaxis": "x",
         "y": [
          0,
          0,
          0,
          0,
          0,
          0,
          0,
          0,
          0,
          0,
          0,
          0,
          0,
          0,
          0,
          0,
          0,
          0,
          0,
          0,
          0,
          0,
          0,
          0,
          0,
          0,
          0,
          0,
          0,
          0,
          0,
          0,
          0,
          0,
          0,
          0,
          0,
          0,
          0,
          0,
          0,
          0,
          0,
          0,
          0.6,
          0,
          0,
          0,
          8.661,
          0.6,
          0.6,
          0,
          0,
          1.672,
          7.372,
          3.255571428571429,
          2.8680454545454546,
          2.9430425531914897,
          2.606621621621622,
          1.9647586206896552,
          2.6528,
          2.5573783783783783,
          2.347704918032787,
          3.5206071428571426,
          0,
          0
         ],
         "yaxis": "y"
        },
        {
         "hovertemplate": "Genre= 18<br>release_year=%{x}<br>Popularity=%{y}<extra></extra>",
         "legendgroup": " 18",
         "line": {
          "color": "#FECB52",
          "dash": "solid"
         },
         "marker": {
          "symbol": "circle"
         },
         "mode": "lines",
         "name": " 18",
         "orientation": "v",
         "showlegend": true,
         "type": "scatter",
         "x": [
          1930,
          1933,
          1936,
          1939,
          1946,
          1949,
          1956,
          1957,
          1958,
          1959,
          1960,
          1961,
          1962,
          1964,
          1965,
          1966,
          1967,
          1968,
          1970,
          1972,
          1974,
          1975,
          1976,
          1977,
          1978,
          1979,
          1980,
          1981,
          1982,
          1983,
          1984,
          1985,
          1986,
          1987,
          1988,
          1989,
          1991,
          1992,
          1993,
          1994,
          1995,
          1996,
          1997,
          1998,
          1999,
          2000,
          2001,
          2002,
          2003,
          2004,
          2005,
          2006,
          2007,
          2008,
          2009,
          2010,
          2011,
          2012,
          2013,
          2014,
          2015,
          2016,
          2017,
          2018,
          2019,
          2020
         ],
         "xaxis": "x",
         "y": [
          0,
          0,
          1.653,
          0,
          0,
          0,
          0,
          0,
          8.693,
          12.71,
          7.926,
          6.2335,
          0,
          0,
          0,
          0,
          12.628,
          7.642,
          0,
          0,
          9.569,
          0,
          0,
          13.044,
          0,
          0,
          0,
          0,
          10.705,
          4.2548,
          0,
          8.9428,
          0,
          0,
          12.268666666666666,
          0,
          12.808,
          0,
          0,
          28.583,
          0,
          10.469,
          11.8325,
          0,
          0,
          8.833,
          10.886,
          17.935,
          0,
          18.199,
          0,
          0,
          15.62,
          1.854,
          2.6455714285714285,
          4.060119850187266,
          3.5704890282131663,
          4.053303249097473,
          3.653244736842105,
          4.092288372093023,
          3.6734722222222222,
          4.530959715639811,
          4.708665060240964,
          6.178909356725146,
          8.715,
          0
         ],
         "yaxis": "y"
        }
       ],
       "layout": {
        "legend": {
         "title": {
          "text": "Genre"
         },
         "tracegroupgap": 0
        },
        "template": {
         "data": {
          "bar": [
           {
            "error_x": {
             "color": "#2a3f5f"
            },
            "error_y": {
             "color": "#2a3f5f"
            },
            "marker": {
             "line": {
              "color": "#E5ECF6",
              "width": 0.5
             },
             "pattern": {
              "fillmode": "overlay",
              "size": 10,
              "solidity": 0.2
             }
            },
            "type": "bar"
           }
          ],
          "barpolar": [
           {
            "marker": {
             "line": {
              "color": "#E5ECF6",
              "width": 0.5
             },
             "pattern": {
              "fillmode": "overlay",
              "size": 10,
              "solidity": 0.2
             }
            },
            "type": "barpolar"
           }
          ],
          "carpet": [
           {
            "aaxis": {
             "endlinecolor": "#2a3f5f",
             "gridcolor": "white",
             "linecolor": "white",
             "minorgridcolor": "white",
             "startlinecolor": "#2a3f5f"
            },
            "baxis": {
             "endlinecolor": "#2a3f5f",
             "gridcolor": "white",
             "linecolor": "white",
             "minorgridcolor": "white",
             "startlinecolor": "#2a3f5f"
            },
            "type": "carpet"
           }
          ],
          "choropleth": [
           {
            "colorbar": {
             "outlinewidth": 0,
             "ticks": ""
            },
            "type": "choropleth"
           }
          ],
          "contour": [
           {
            "colorbar": {
             "outlinewidth": 0,
             "ticks": ""
            },
            "colorscale": [
             [
              0,
              "#0d0887"
             ],
             [
              0.1111111111111111,
              "#46039f"
             ],
             [
              0.2222222222222222,
              "#7201a8"
             ],
             [
              0.3333333333333333,
              "#9c179e"
             ],
             [
              0.4444444444444444,
              "#bd3786"
             ],
             [
              0.5555555555555556,
              "#d8576b"
             ],
             [
              0.6666666666666666,
              "#ed7953"
             ],
             [
              0.7777777777777778,
              "#fb9f3a"
             ],
             [
              0.8888888888888888,
              "#fdca26"
             ],
             [
              1,
              "#f0f921"
             ]
            ],
            "type": "contour"
           }
          ],
          "contourcarpet": [
           {
            "colorbar": {
             "outlinewidth": 0,
             "ticks": ""
            },
            "type": "contourcarpet"
           }
          ],
          "heatmap": [
           {
            "colorbar": {
             "outlinewidth": 0,
             "ticks": ""
            },
            "colorscale": [
             [
              0,
              "#0d0887"
             ],
             [
              0.1111111111111111,
              "#46039f"
             ],
             [
              0.2222222222222222,
              "#7201a8"
             ],
             [
              0.3333333333333333,
              "#9c179e"
             ],
             [
              0.4444444444444444,
              "#bd3786"
             ],
             [
              0.5555555555555556,
              "#d8576b"
             ],
             [
              0.6666666666666666,
              "#ed7953"
             ],
             [
              0.7777777777777778,
              "#fb9f3a"
             ],
             [
              0.8888888888888888,
              "#fdca26"
             ],
             [
              1,
              "#f0f921"
             ]
            ],
            "type": "heatmap"
           }
          ],
          "heatmapgl": [
           {
            "colorbar": {
             "outlinewidth": 0,
             "ticks": ""
            },
            "colorscale": [
             [
              0,
              "#0d0887"
             ],
             [
              0.1111111111111111,
              "#46039f"
             ],
             [
              0.2222222222222222,
              "#7201a8"
             ],
             [
              0.3333333333333333,
              "#9c179e"
             ],
             [
              0.4444444444444444,
              "#bd3786"
             ],
             [
              0.5555555555555556,
              "#d8576b"
             ],
             [
              0.6666666666666666,
              "#ed7953"
             ],
             [
              0.7777777777777778,
              "#fb9f3a"
             ],
             [
              0.8888888888888888,
              "#fdca26"
             ],
             [
              1,
              "#f0f921"
             ]
            ],
            "type": "heatmapgl"
           }
          ],
          "histogram": [
           {
            "marker": {
             "pattern": {
              "fillmode": "overlay",
              "size": 10,
              "solidity": 0.2
             }
            },
            "type": "histogram"
           }
          ],
          "histogram2d": [
           {
            "colorbar": {
             "outlinewidth": 0,
             "ticks": ""
            },
            "colorscale": [
             [
              0,
              "#0d0887"
             ],
             [
              0.1111111111111111,
              "#46039f"
             ],
             [
              0.2222222222222222,
              "#7201a8"
             ],
             [
              0.3333333333333333,
              "#9c179e"
             ],
             [
              0.4444444444444444,
              "#bd3786"
             ],
             [
              0.5555555555555556,
              "#d8576b"
             ],
             [
              0.6666666666666666,
              "#ed7953"
             ],
             [
              0.7777777777777778,
              "#fb9f3a"
             ],
             [
              0.8888888888888888,
              "#fdca26"
             ],
             [
              1,
              "#f0f921"
             ]
            ],
            "type": "histogram2d"
           }
          ],
          "histogram2dcontour": [
           {
            "colorbar": {
             "outlinewidth": 0,
             "ticks": ""
            },
            "colorscale": [
             [
              0,
              "#0d0887"
             ],
             [
              0.1111111111111111,
              "#46039f"
             ],
             [
              0.2222222222222222,
              "#7201a8"
             ],
             [
              0.3333333333333333,
              "#9c179e"
             ],
             [
              0.4444444444444444,
              "#bd3786"
             ],
             [
              0.5555555555555556,
              "#d8576b"
             ],
             [
              0.6666666666666666,
              "#ed7953"
             ],
             [
              0.7777777777777778,
              "#fb9f3a"
             ],
             [
              0.8888888888888888,
              "#fdca26"
             ],
             [
              1,
              "#f0f921"
             ]
            ],
            "type": "histogram2dcontour"
           }
          ],
          "mesh3d": [
           {
            "colorbar": {
             "outlinewidth": 0,
             "ticks": ""
            },
            "type": "mesh3d"
           }
          ],
          "parcoords": [
           {
            "line": {
             "colorbar": {
              "outlinewidth": 0,
              "ticks": ""
             }
            },
            "type": "parcoords"
           }
          ],
          "pie": [
           {
            "automargin": true,
            "type": "pie"
           }
          ],
          "scatter": [
           {
            "fillpattern": {
             "fillmode": "overlay",
             "size": 10,
             "solidity": 0.2
            },
            "type": "scatter"
           }
          ],
          "scatter3d": [
           {
            "line": {
             "colorbar": {
              "outlinewidth": 0,
              "ticks": ""
             }
            },
            "marker": {
             "colorbar": {
              "outlinewidth": 0,
              "ticks": ""
             }
            },
            "type": "scatter3d"
           }
          ],
          "scattercarpet": [
           {
            "marker": {
             "colorbar": {
              "outlinewidth": 0,
              "ticks": ""
             }
            },
            "type": "scattercarpet"
           }
          ],
          "scattergeo": [
           {
            "marker": {
             "colorbar": {
              "outlinewidth": 0,
              "ticks": ""
             }
            },
            "type": "scattergeo"
           }
          ],
          "scattergl": [
           {
            "marker": {
             "colorbar": {
              "outlinewidth": 0,
              "ticks": ""
             }
            },
            "type": "scattergl"
           }
          ],
          "scattermapbox": [
           {
            "marker": {
             "colorbar": {
              "outlinewidth": 0,
              "ticks": ""
             }
            },
            "type": "scattermapbox"
           }
          ],
          "scatterpolar": [
           {
            "marker": {
             "colorbar": {
              "outlinewidth": 0,
              "ticks": ""
             }
            },
            "type": "scatterpolar"
           }
          ],
          "scatterpolargl": [
           {
            "marker": {
             "colorbar": {
              "outlinewidth": 0,
              "ticks": ""
             }
            },
            "type": "scatterpolargl"
           }
          ],
          "scatterternary": [
           {
            "marker": {
             "colorbar": {
              "outlinewidth": 0,
              "ticks": ""
             }
            },
            "type": "scatterternary"
           }
          ],
          "surface": [
           {
            "colorbar": {
             "outlinewidth": 0,
             "ticks": ""
            },
            "colorscale": [
             [
              0,
              "#0d0887"
             ],
             [
              0.1111111111111111,
              "#46039f"
             ],
             [
              0.2222222222222222,
              "#7201a8"
             ],
             [
              0.3333333333333333,
              "#9c179e"
             ],
             [
              0.4444444444444444,
              "#bd3786"
             ],
             [
              0.5555555555555556,
              "#d8576b"
             ],
             [
              0.6666666666666666,
              "#ed7953"
             ],
             [
              0.7777777777777778,
              "#fb9f3a"
             ],
             [
              0.8888888888888888,
              "#fdca26"
             ],
             [
              1,
              "#f0f921"
             ]
            ],
            "type": "surface"
           }
          ],
          "table": [
           {
            "cells": {
             "fill": {
              "color": "#EBF0F8"
             },
             "line": {
              "color": "white"
             }
            },
            "header": {
             "fill": {
              "color": "#C8D4E3"
             },
             "line": {
              "color": "white"
             }
            },
            "type": "table"
           }
          ]
         },
         "layout": {
          "annotationdefaults": {
           "arrowcolor": "#2a3f5f",
           "arrowhead": 0,
           "arrowwidth": 1
          },
          "autotypenumbers": "strict",
          "coloraxis": {
           "colorbar": {
            "outlinewidth": 0,
            "ticks": ""
           }
          },
          "colorscale": {
           "diverging": [
            [
             0,
             "#8e0152"
            ],
            [
             0.1,
             "#c51b7d"
            ],
            [
             0.2,
             "#de77ae"
            ],
            [
             0.3,
             "#f1b6da"
            ],
            [
             0.4,
             "#fde0ef"
            ],
            [
             0.5,
             "#f7f7f7"
            ],
            [
             0.6,
             "#e6f5d0"
            ],
            [
             0.7,
             "#b8e186"
            ],
            [
             0.8,
             "#7fbc41"
            ],
            [
             0.9,
             "#4d9221"
            ],
            [
             1,
             "#276419"
            ]
           ],
           "sequential": [
            [
             0,
             "#0d0887"
            ],
            [
             0.1111111111111111,
             "#46039f"
            ],
            [
             0.2222222222222222,
             "#7201a8"
            ],
            [
             0.3333333333333333,
             "#9c179e"
            ],
            [
             0.4444444444444444,
             "#bd3786"
            ],
            [
             0.5555555555555556,
             "#d8576b"
            ],
            [
             0.6666666666666666,
             "#ed7953"
            ],
            [
             0.7777777777777778,
             "#fb9f3a"
            ],
            [
             0.8888888888888888,
             "#fdca26"
            ],
            [
             1,
             "#f0f921"
            ]
           ],
           "sequentialminus": [
            [
             0,
             "#0d0887"
            ],
            [
             0.1111111111111111,
             "#46039f"
            ],
            [
             0.2222222222222222,
             "#7201a8"
            ],
            [
             0.3333333333333333,
             "#9c179e"
            ],
            [
             0.4444444444444444,
             "#bd3786"
            ],
            [
             0.5555555555555556,
             "#d8576b"
            ],
            [
             0.6666666666666666,
             "#ed7953"
            ],
            [
             0.7777777777777778,
             "#fb9f3a"
            ],
            [
             0.8888888888888888,
             "#fdca26"
            ],
            [
             1,
             "#f0f921"
            ]
           ]
          },
          "colorway": [
           "#636efa",
           "#EF553B",
           "#00cc96",
           "#ab63fa",
           "#FFA15A",
           "#19d3f3",
           "#FF6692",
           "#B6E880",
           "#FF97FF",
           "#FECB52"
          ],
          "font": {
           "color": "#2a3f5f"
          },
          "geo": {
           "bgcolor": "white",
           "lakecolor": "white",
           "landcolor": "#E5ECF6",
           "showlakes": true,
           "showland": true,
           "subunitcolor": "white"
          },
          "hoverlabel": {
           "align": "left"
          },
          "hovermode": "closest",
          "mapbox": {
           "style": "light"
          },
          "paper_bgcolor": "white",
          "plot_bgcolor": "#E5ECF6",
          "polar": {
           "angularaxis": {
            "gridcolor": "white",
            "linecolor": "white",
            "ticks": ""
           },
           "bgcolor": "#E5ECF6",
           "radialaxis": {
            "gridcolor": "white",
            "linecolor": "white",
            "ticks": ""
           }
          },
          "scene": {
           "xaxis": {
            "backgroundcolor": "#E5ECF6",
            "gridcolor": "white",
            "gridwidth": 2,
            "linecolor": "white",
            "showbackground": true,
            "ticks": "",
            "zerolinecolor": "white"
           },
           "yaxis": {
            "backgroundcolor": "#E5ECF6",
            "gridcolor": "white",
            "gridwidth": 2,
            "linecolor": "white",
            "showbackground": true,
            "ticks": "",
            "zerolinecolor": "white"
           },
           "zaxis": {
            "backgroundcolor": "#E5ECF6",
            "gridcolor": "white",
            "gridwidth": 2,
            "linecolor": "white",
            "showbackground": true,
            "ticks": "",
            "zerolinecolor": "white"
           }
          },
          "shapedefaults": {
           "line": {
            "color": "#2a3f5f"
           }
          },
          "ternary": {
           "aaxis": {
            "gridcolor": "white",
            "linecolor": "white",
            "ticks": ""
           },
           "baxis": {
            "gridcolor": "white",
            "linecolor": "white",
            "ticks": ""
           },
           "bgcolor": "#E5ECF6",
           "caxis": {
            "gridcolor": "white",
            "linecolor": "white",
            "ticks": ""
           }
          },
          "title": {
           "x": 0.05
          },
          "xaxis": {
           "automargin": true,
           "gridcolor": "white",
           "linecolor": "white",
           "ticks": "",
           "title": {
            "standoff": 15
           },
           "zerolinecolor": "white",
           "zerolinewidth": 2
          },
          "yaxis": {
           "automargin": true,
           "gridcolor": "white",
           "linecolor": "white",
           "ticks": "",
           "title": {
            "standoff": 15
           },
           "zerolinecolor": "white",
           "zerolinewidth": 2
          }
         }
        },
        "title": {
         "text": "Top 10 Genre Popularity Trends Over the Years"
        },
        "xaxis": {
         "anchor": "y",
         "domain": [
          0,
          1
         ],
         "title": {
          "text": "release_year"
         }
        },
        "yaxis": {
         "anchor": "x",
         "domain": [
          0,
          1
         ],
         "title": {
          "text": "Popularity"
         }
        }
       }
      }
     },
     "metadata": {},
     "output_type": "display_data"
    }
   ],
   "source": [
    "import pandas as pd\n",
    "import matplotlib.pyplot as plt\n",
    "import seaborn as sns\n",
    "import plotly.express as px\n",
    "\n",
    "# Load the necessary data\n",
    "bom_movie_gross = pd.read_csv(\"C:/Users/DELL/Desktop/Moringa projects/DSF_PT08P2_Phase_2_Project_Grp_1_Final/Data/bom_movie_gross.csv\")  # Adjust path as needed\n",
    "rt_movie_info = pd.read_csv(\"C:/Users/DELL/Desktop/Moringa projects/DSF_PT08P2_Phase_2_Project_Grp_1_Final/Data/rt.movie_info.tsv\", sep='\\t')\n",
    "tmdb_movies = pd.read_csv(\"C:/Users/DELL/Desktop/Moringa projects/DSF_PT08P2_Phase_2_Project_Grp_1_Final/Data/tmdb_movies.csv\")\n",
    "\n",
    "# Date parsing and genre processing\n",
    "tmdb_movies['release_date'] = pd.to_datetime(tmdb_movies['release_date'], errors='coerce')\n",
    "tmdb_movies['release_year'] = tmdb_movies['release_date'].dt.year\n",
    "\n",
    "tmdb_movies['genre_ids'] = tmdb_movies['genre_ids'].apply(lambda x: x.strip('[]').split(','))  # Adjust if needed\n",
    "tmdb_movies_exploded = tmdb_movies.explode('genre_ids')\n",
    "\n",
    "# Calculate average popularity per genre per year\n",
    "genre_trends = tmdb_movies_exploded.groupby(['release_year', 'genre_ids'])['popularity'].mean().unstack().fillna(0)\n",
    "\n",
    "# Filter to top 10 genres based on the latest year\n",
    "latest_year = genre_trends.index.max()\n",
    "top_genres_latest_year = genre_trends.loc[latest_year].sort_values(ascending=False).head(10).index\n",
    "top_10_genre_trends = genre_trends[top_genres_latest_year]\n",
    "\n",
    "# Convert to long format for Plotly\n",
    "top_10_genre_trends_long = top_10_genre_trends.reset_index().melt(id_vars='release_year', \n",
    "                                                                   var_name='Genre', \n",
    "                                                                   value_name='Popularity')\n",
    "\n",
    "# Create interactive line plot with Plotly\n",
    "fig = px.line(top_10_genre_trends_long, x='release_year', y='Popularity', color='Genre',\n",
    "              title=\"Top 10 Genre Popularity Trends Over the Years\")\n",
    "\n",
    "# Show plot with interactive toggling capabilities\n",
    "fig.show()"
   ]
  },
  {
   "cell_type": "markdown",
   "metadata": {},
   "source": [
    "## Insights\n",
    "1. Top-Performing Genres:\n",
    "\n",
    "* The top-performing genres this year can be identified through their high popularity scores in the visualization. These genres are likely those currently drawing the most audience interest.\n",
    "* A pattern of certain genres consistently appearing in the top 10 over recent years may indicate stable audience demand, suggesting that these genres have a broad and loyal viewership.\n",
    "\n",
    "2. Shifting Popularity of Genres Over Time:\n",
    "\n",
    "* Some genres may show rising popularity in recent years, while others may decline. For instance, if genres like Action and Sci-Fi show a steady increase in popularity, it may imply an expanding audience interest in high-adrenaline and futuristic themes.\n",
    "* Genres with declining popularity should be reviewed to determine if they are worth investing in, as it could indicate a waning interest unless rejuvenated with fresh perspectives.\n",
    "\n",
    "3. Audience Preferences and Novelty:\n",
    "\n",
    "* The data suggests that while certain genres remain popular, introducing unique elements within these genres can appeal to audiences seeking fresh content. For example, blending popular genres (like Romance and Sci-Fi) could create unique storytelling avenues.\n",
    "* Genres that have periodic spikes in popularity might benefit from reimaginative or event-driven releases, such as releases aligned with holidays or specific cultural events.\n",
    "\n",
    "## Business Recommendations\n",
    "1. Focus on Trending Genres with Unique Story Elements:\n",
    "\n",
    "* To align with current audience preferences, prioritize the top-performing genres for future projects. However, aim to differentiate the studio’s content by incorporating unique elements within these popular genres. For instance, if Horror is trending, a psychological or social commentary twist could stand out.\n",
    "* Investing in a combination of consistent top genres with a fresh narrative approach will help attract loyal audiences while appealing to new viewers.\n",
    "\n",
    "2. Monitor Emerging Genres for Strategic Investment:\n",
    "\n",
    "* Closely track genres that show steady growth over the past few years, even if they are not in the current top 10. Early investment in a rising genre allows the studio to become a market leader within that niche as the genre grows in popularity.\n",
    "* Additionally, consider dedicating a portion of the budget to experimental films in emerging genres, which could create a unique brand identity and attract audiences looking for novelty.\n",
    "\n",
    "3. Seasonal and Cultural Timing for Genre Releases:\n",
    "\n",
    "* If certain genres peak during specific times (e.g., Horror in October or Family films in December), align release schedules accordingly to capitalize on audience interest.\n",
    "* For genres with cyclical popularity, time the release with relevant events, holidays, or trends to maximize viewer engagement and revenue potential.\n",
    "\n",
    "4. Continual Audience Trend Analysis:\n",
    "\n",
    "* Regularly update this genre analysis to capture shifts in audience preference over time. This allows the studio to stay responsive to changing demands and focus investments on the most promising content.\n",
    "* Implement periodic content reviews to re-evaluate the relevance of each genre’s popularity trends, thus ensuring alignment with real-time audience interest."
   ]
  },
  {
   "cell_type": "markdown",
   "metadata": {},
   "source": [
    "# Focus Question 2\n",
    "## Budget and Cost Management\n",
    "\n",
    "* What is the projected budget for this film, and are there any opportunities to reduce costs without compromising quality?\n",
    "* What are the financial risks involved if the film exceeds the budget?"
   ]
  },
  {
   "cell_type": "code",
   "execution_count": 49,
   "metadata": {},
   "outputs": [
    {
     "data": {
      "image/png": "[encoded data removed]",
      "text/plain": [
       "<Figure size 1000x600 with 1 Axes>"
      ]
     },
     "metadata": {},
     "output_type": "display_data"
    }
   ],
   "source": [
    "import pandas as pd\n",
    "import matplotlib.pyplot as plt\n",
    "import seaborn as sns\n",
    "\n",
    "# Load datasets\n",
    "bom_movie_gross = pd.read_csv(\"C:/Users/DELL/Desktop/Moringa projects/DSF_PT08P2_Phase_2_Project_Grp_1_Final/Data/bom_movie_gross.csv\")\n",
    "tmdb_movies = pd.read_csv(\"C:/Users/DELL/Desktop/Moringa projects/DSF_PT08P2_Phase_2_Project_Grp_1_Final/Data/tmdb_movies.csv\")\n",
    "\n",
    "# Convert relevant fields to numeric types where needed\n",
    "bom_movie_gross['domestic_gross'] = pd.to_numeric(bom_movie_gross['domestic_gross'], errors='coerce')\n",
    "bom_movie_gross['foreign_gross'] = pd.to_numeric(bom_movie_gross['foreign_gross'], errors='coerce')\n",
    "bom_movie_gross['total_gross'] = bom_movie_gross['domestic_gross'] + bom_movie_gross['foreign_gross']\n",
    "\n",
    "# Merge relevant dataframes if needed for additional analysis\n",
    "# (Ensure a common column exists or is processed to match in each dataset)\n",
    "\n",
    "# Plot total gross distribution to identify revenue trends\n",
    "plt.figure(figsize=(10, 6))\n",
    "sns.histplot(bom_movie_gross['total_gross'].dropna(), bins=30, kde=True)\n",
    "plt.title('Distribution of Total Gross Revenue')\n",
    "plt.xlabel('Total Gross Revenue (in USD)')\n",
    "plt.ylabel('Frequency')\n",
    "plt.show()"
   ]
  },
  {
   "cell_type": "markdown",
   "metadata": {},
   "source": [
    "## Insights\n",
    "1. Revenue Trends:\n",
    "\n",
    "* The distribution plot shows that while most films achieve a certain range of total gross revenue, a small subset of films significantly outperforms the majority. These high-revenue films are likely those with larger budgets, major star power, or unique appeal that drives audience demand.\n",
    "* A concentration of films within a specific revenue range could indicate an average expected gross for standard films, which helps to benchmark revenue expectations based on typical project scale and audience reach.\n",
    "\n",
    "2. Revenue Predictability and Budget Planning:\n",
    "\n",
    "* Given the revenue distribution, it is evident that most films do not achieve blockbuster-level revenues. This implies that budgeting should be aligned with realistic revenue forecasts, especially for films without a high-profile cast, a major franchise, or heavy marketing investments.\n",
    "* Budgeting based on the average revenue range of similar films can provide a more grounded projection, minimizing financial risk.\n",
    "\n",
    "3. Outliers and Financial Opportunities:\n",
    "\n",
    "* Outlier films with exceptionally high gross revenues indicate successful opportunities where high-budget projects with high-quality production may pay off. However, such investments are riskier, given the few films that achieve such heights.\n",
    "* There may be mid-range budget options that, while avoiding the highest costs, still capitalize on quality and strategic marketing, allowing for higher returns within a moderate budget framework.\n",
    "\n"
   ]
  },
  {
   "cell_type": "markdown",
   "metadata": {},
   "source": [
    "# Focus Question 3\n",
    "## Return on Investment (ROI) and Revenue Projections\n",
    "\n",
    "* Based on similar past films, what is the expected ROI for this project?\n",
    "* What revenue milestones should we set, and over what timeline?"
   ]
  },
  {
   "cell_type": "code",
   "execution_count": 56,
   "metadata": {},
   "outputs": [
    {
     "name": "stderr",
     "output_type": "stream",
     "text": [
      "C:\\Users\\DELL\\AppData\\Local\\Temp\\ipykernel_8332\\3592550364.py:15: FutureWarning:\n",
      "\n",
      "A value is trying to be set on a copy of a DataFrame or Series through chained assignment using an inplace method.\n",
      "The behavior will change in pandas 3.0. This inplace method will never work because the intermediate object on which we are setting values always behaves as a copy.\n",
      "\n",
      "For example, when doing 'df[col].method(value, inplace=True)', try using 'df.method({col: value}, inplace=True)' or df[col] = df[col].method(value) instead, to perform the operation inplace on the original object.\n",
      "\n",
      "\n",
      "\n",
      "C:\\Users\\DELL\\AppData\\Local\\Temp\\ipykernel_8332\\3592550364.py:16: FutureWarning:\n",
      "\n",
      "A value is trying to be set on a copy of a DataFrame or Series through chained assignment using an inplace method.\n",
      "The behavior will change in pandas 3.0. This inplace method will never work because the intermediate object on which we are setting values always behaves as a copy.\n",
      "\n",
      "For example, when doing 'df[col].method(value, inplace=True)', try using 'df.method({col: value}, inplace=True)' or df[col] = df[col].method(value) instead, to perform the operation inplace on the original object.\n",
      "\n",
      "\n",
      "\n"
     ]
    },
    {
     "data": {
      "image/png": "[encoded data removed]",
      "text/plain": [
       "<Figure size 1000x600 with 1 Axes>"
      ]
     },
     "metadata": {},
     "output_type": "display_data"
    }
   ],
   "source": [
    "import pandas as pd\n",
    "import matplotlib.pyplot as plt\n",
    "import seaborn as sns\n",
    "import numpy as np\n",
    "\n",
    "# Load data and preprocess\n",
    "bom_movie_gross = pd.read_csv(\"C:/Users/DELL/Desktop/Moringa projects/DSF_PT08P2_Phase_2_Project_Grp_1_Final/Data/bom_movie_gross.csv\")\n",
    "tmdb_movies = pd.read_csv(\"C:/Users/DELL/Desktop/Moringa projects/DSF_PT08P2_Phase_2_Project_Grp_1_Final/Data/tmdb_movies.csv\")\n",
    "\n",
    "# Ensure that domestic_gross and foreign_gross are numeric, setting errors='coerce' to convert non-numeric values to NaN\n",
    "bom_movie_gross['domestic_gross'] = pd.to_numeric(bom_movie_gross['domestic_gross'], errors='coerce')\n",
    "bom_movie_gross['foreign_gross'] = pd.to_numeric(bom_movie_gross['foreign_gross'], errors='coerce')\n",
    "\n",
    "# Fill NaN values with 0, assuming missing revenue values are zero\n",
    "bom_movie_gross['domestic_gross'].fillna(0, inplace=True)\n",
    "bom_movie_gross['foreign_gross'].fillna(0, inplace=True)\n",
    "\n",
    "# Calculate total gross as the sum of domestic and foreign gross\n",
    "bom_movie_gross['total_gross'] = bom_movie_gross['domestic_gross'] + bom_movie_gross['foreign_gross']\n",
    "\n",
    "# Simulate a cumulative revenue timeline for the first 12 months\n",
    "time_points = np.arange(1, 13)\n",
    "average_monthly_growth_rate = 0.1  # Assume 10% growth per month\n",
    "initial_revenue = bom_movie_gross['total_gross'].mean() * 0.2  # Start with 20% of avg revenue\n",
    "\n",
    "# Calculate cumulative revenue milestones\n",
    "cumulative_revenue = [initial_revenue]\n",
    "for i in range(1, len(time_points)):\n",
    "    cumulative_revenue.append(cumulative_revenue[-1] * (1 + average_monthly_growth_rate))\n",
    "\n",
    "# Plot cumulative revenue over time\n",
    "plt.figure(figsize=(10, 6))\n",
    "plt.plot(time_points, cumulative_revenue, marker='o', linestyle='-', color='b')\n",
    "plt.title('Projected Cumulative Revenue Milestones Over 12 Months')\n",
    "plt.xlabel('Month')\n",
    "plt.ylabel('Cumulative Revenue (USD)')\n",
    "plt.xticks(time_points)\n",
    "plt.grid()\n",
    "plt.show()"
   ]
  },
  {
   "cell_type": "markdown",
   "metadata": {},
   "source": [
    "## Business Recommendations\n",
    "1. Set Realistic Budget Projections Based on Expected Revenue Range:\n",
    "\n",
    "* For non-blockbuster films, set a budget that aligns with the typical gross revenue range observed in the distribution. Avoid over-investing in films with limited market appeal to reduce financial risk.\n",
    "* Use median revenue as a baseline for budgeting to avoid overspending on films that are unlikely to break the average revenue threshold.\n",
    "\n",
    "2. Opportunities for Cost Optimization:\n",
    "\n",
    "* Focus on maintaining quality in high-impact areas such as casting, script, and marketing. For areas that have minimal impact on audience appeal, consider more cost-effective solutions to keep the budget manageable without compromising overall quality.\n",
    "* Collaborate with experienced but less costly production teams, use efficient filming locations, and invest selectively in post-production to minimize costs while retaining a polished outcome.\n",
    "\n",
    "3. Financial Risk Management for High-Budget Films:\n",
    "\n",
    "* For high-budget projects aiming for substantial revenue, consider diversifying financial support through sponsorships, partnerships, and co-productions to mitigate the financial burden and reduce risk.\n",
    "* Define financial milestones for the project, such as marketing spends or production deadlines, to control costs and avoid excessive spending that could hinder the project’s profitability.\n",
    "\n",
    "4. Mid-Budget Strategic Investment:\n",
    "\n",
    "* Consider a balanced approach by investing in mid-budget films that target specific, well-defined audiences with unique content, avoiding the risks of both low and blockbuster budgets. This could allow the studio to achieve a favorable ROI without relying on rare, high-revenue results.\n",
    "* Periodically review budget utilization to identify further opportunities for cost savings, and conduct post-release analysis on cost and revenue patterns for continuous improvement in budgeting strategies.\n",
    "\n"
   ]
  }
 ],
 "metadata": {
  "kernelspec": {
   "display_name": "Python 3",
   "language": "python",
   "name": "python3"
  },
  "language_info": {
   "codemirror_mode": {
    "name": "ipython",
    "version": 3
   },
   "file_extension": ".py",
   "mimetype": "text/x-python",
   "name": "python",
   "nbconvert_exporter": "python",
   "pygments_lexer": "ipython3",
   "version": "3.12.7"
  }
 },
 "nbformat": 4,
 "nbformat_minor": 2
}
