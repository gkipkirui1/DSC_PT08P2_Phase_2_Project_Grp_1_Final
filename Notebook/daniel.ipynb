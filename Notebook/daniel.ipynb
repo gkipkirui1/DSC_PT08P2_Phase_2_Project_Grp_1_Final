{
 "cells": [
  {
   "cell_type": "markdown",
   "metadata": {},
   "source": [
    "## Business Problem\n",
    "Your company now sees all the big companies creating original video content and they want to get in on the fun. They have decided to create a new movie studio, but they don’t know anything about creating movies. You are charged with exploring what types of films are currently doing the best at the box office. You must then translate those findings into actionable insights that the head of your company's new movie studio can use to help decide what type of films to create."
   ]
  },
  {
   "cell_type": "markdown",
   "metadata": {},
   "source": [
    "## Objectives \n",
    "1. What genres are currently performing the best at the box office\n",
    "2. What type of films  are generating the most revenue?\n",
    "3. What is the relationship between movie ratings and box office perfomance?\n",
    "4. How do budget and marketing expences correlate with box office success?\n",
    "5. What are the trends in the audience demographics and preferences?\n",
    "6. Which months or seasons yield higher box office returns?\n",
    "\n",
    "1. Identify the top grossing films of the last 5 years.\n",
    "2. Analyze the correlation between movie production budget and gross revenue.\n",
    "3. Explore the top grossing directors and their average gross revenue.\n",
    "4. Identify the most popular genres and their average gross revenue.\n",
    "\n",
    "## Data"
   ]
  },
  {
   "cell_type": "markdown",
   "metadata": {},
   "source": []
  }
 ],
 "metadata": {
  "language_info": {
   "name": "python"
  }
 },
 "nbformat": 4,
 "nbformat_minor": 2
}
