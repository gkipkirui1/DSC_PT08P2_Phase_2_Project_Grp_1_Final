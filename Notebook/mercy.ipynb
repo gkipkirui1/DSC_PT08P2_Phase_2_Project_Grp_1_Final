{
 "cells": [
  {
   "cell_type": "markdown",
   "metadata": {},
   "source": [
    "## Business Problem\n",
    "Your company now sees all the big companies creating original video content and they want to get in on the fun. They have decided to create a new movie studio, but they don’t know anything about creating movies. You are charged with exploring what types of films are currently doing the best at the box office. You must then translate those findings into actionable insights that the head of your company's new movie studio can use to help decide what type of films to create.\n",
    "\n",
    "## Data\n",
    "The data used was obtained from the links below: \n",
    "\n",
    "* [Box Office Mojo](https://www.boxofficemojo.com/)\n",
    "* [IMDB](https://www.imdb.com/)\n",
    "* [Rotten Tomatoes](https://www.rottentomatoes.com/)\n",
    "* [TheMovieDB](https://www.themoviedb.org/)\n",
    "* [The Numbers](https://www.the-numbers.com/)\n",
    "\n",
    "![movie data erd](movie_data_erd.jpeg)"
   ]
  },
  {
   "cell_type": "markdown",
   "metadata": {},
   "source": [
    "### Goal\n",
    "The goal is to investigate movie performance to identify patterns, genres, or attributes of successful films."
   ]
  },
  {
   "cell_type": "markdown",
   "metadata": {},
   "source": [
    "### Objectives:\n",
    "1.\tAnalyze the Movie Data:\n",
    "    * Identify characteristics of high-performing movies, in terms of genre, budget, runtime, release date, or lead actors/directors.\n",
    "    * Look for trends in movie popularity and revenue growth over recent years.\n",
    "2.\tUnderstand Market Demand:\n",
    "    * Examine the types of movies audiences prefer i.e. genre\n",
    "    * Identify seasonal trends like during holiday releases, summer etc. to determine the best time for movie releases.\n",
    "3.\tIdentify Key Success Factors:\n",
    "    * Explore factors like movie rating, production budget, etc.\n",
    "    * Evaluate the impact of sequels or franchise films on box office revenue.\n",
    "4.\tTranslate Findings into Recommendations:\n",
    "    * Provide specific, actionable insights for the company to make data-informed decisions on the types of movies to create.\n",
    "    * Recommend strategies around genre, budget, target demographics, and release timing\n"
   ]
  },
  {
   "cell_type": "markdown",
   "metadata": {},
   "source": []
  },
  {
   "cell_type": "code",
   "execution_count": 1,
   "metadata": {},
   "outputs": [],
   "source": [
    "# Import the necessary files\n",
    "import numpy as np\n",
    "import pandas as pd\n",
    "import sqlite3\n",
    "import zipfile\n",
    "import os\n",
    "\n",
    "# Import Libraries for plotting    # Visualizations\n",
    "import matplotlib.pyplot as plt\n",
    "import seaborn as sns"
   ]
  },
  {
   "cell_type": "markdown",
   "metadata": {},
   "source": [
    "Load Relevant Data"
   ]
  },
  {
   "cell_type": "code",
   "execution_count": null,
   "metadata": {},
   "outputs": [],
   "source": [
    "# Extract the zipped files\n",
    "# zip_path = 'im.db.zip' #the zipped database file path\n",
    "extracted_db_path = 'im.db'  # create a path where extracted database will be saved\n",
    "# extracted_db_path\n",
    "\n",
    "# # Extract the .db file from the zip archive\n",
    "# with zipfile.ZipFile(zip_path, 'r') as zip_ref:\n",
    "#     zip_ref.extractall(os.path.dirname(extracted_db_path))  # Extracts in the same directory as zip file\n",
    "\n",
    "# Connect to the extracted SQLite database\n",
    "conn = sqlite3.connect(extracted_db_path)\n",
    "cursor = conn.cursor()"
   ]
  },
  {
   "cell_type": "markdown",
   "metadata": {},
   "source": [
    "Inspect the Data"
   ]
  },
  {
   "cell_type": "code",
   "execution_count": null,
   "metadata": {},
   "outputs": [],
   "source": [
    "# Get the list of tables in the database\n",
    "pd.read_sql(\"SELECT name FROM sqlite_master WHERE type='table';\", conn)"
   ]
  },
  {
   "cell_type": "code",
   "execution_count": null,
   "metadata": {},
   "outputs": [],
   "source": [
    "pd.read_sql(\"SELECT * FROM movie_basics\",conn).columns\n",
    "pd.read_sql(\"SELECT * FROM movie_ratings\",conn).columns\n",
    "pd.read_sql(\"SELECT * FROM directors\",conn).columns"
   ]
  },
  {
   "cell_type": "code",
   "execution_count": null,
   "metadata": {},
   "outputs": [],
   "source": [
    "movie_basics_data = pd.DataFrame(pd.read_sql(\"SELECT * FROM movie_basics\",conn))\n",
    "movie_basics_data.head()"
   ]
  },
  {
   "cell_type": "markdown",
   "metadata": {},
   "source": [
    "Check for Null values"
   ]
  },
  {
   "cell_type": "code",
   "execution_count": null,
   "metadata": {},
   "outputs": [],
   "source": [
    "#Show null values\n",
    "movie_basics_data['original_title'].isnull().sum() #21 missing records\n",
    "movie_basics_data['runtime_minutes'].isnull().sum() #31739 missing records\n",
    "movie_basics_data['original_title'].isnull().sum() #21 missing records"
   ]
  },
  {
   "cell_type": "markdown",
   "metadata": {},
   "source": [
    "## EDA\n",
    "### Univariate Analysis\n",
    "Revenue, Budget, Genres, Original Language,Runtime, etc."
   ]
  },
  {
   "cell_type": "markdown",
   "metadata": {},
   "source": []
  },
  {
   "cell_type": "markdown",
   "metadata": {},
   "source": [
    "### Bivariate Analysis\n",
    "Budget vs revenue, Genre vs revenue, production cost vs revenue, etc"
   ]
  },
  {
   "cell_type": "code",
   "execution_count": null,
   "metadata": {},
   "outputs": [],
   "source": []
  },
  {
   "cell_type": "markdown",
   "metadata": {},
   "source": [
    "## Linear Regression/ ML"
   ]
  },
  {
   "cell_type": "markdown",
   "metadata": {},
   "source": []
  }
 ],
 "metadata": {
  "kernelspec": {
   "display_name": "learn-env",
   "language": "python",
   "name": "python3"
  },
  "language_info": {
   "codemirror_mode": {
    "name": "ipython",
    "version": 3
   },
   "file_extension": ".py",
   "mimetype": "text/x-python",
   "name": "python",
   "nbconvert_exporter": "python",
   "pygments_lexer": "ipython3",
   "version": "3.8.5"
  }
 },
 "nbformat": 4,
 "nbformat_minor": 2
}
