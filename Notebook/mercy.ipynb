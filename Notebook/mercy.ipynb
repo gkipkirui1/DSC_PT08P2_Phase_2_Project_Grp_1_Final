{
 "cells": [
  {
   "cell_type": "markdown",
   "metadata": {},
   "source": [
    "## Business Problem\n",
    "Your company now sees all the big companies creating original video content and they want to get in on the fun. They have decided to create a new movie studio, but they don’t know anything about creating movies. You are charged with exploring what types of films are currently doing the best at the box office. You must then translate those findings into actionable insights that the head of your company's new movie studio can use to help decide what type of films to create.\n",
    "\n",
    "## Data\n",
    "The data used was obtained from the links below: \n",
    "\n",
    "* [Box Office Mojo](https://www.boxofficemojo.com/)\n",
    "* [IMDB](https://www.imdb.com/)\n",
    "* [Rotten Tomatoes](https://www.rottentomatoes.com/)\n",
    "* [TheMovieDB](https://www.themoviedb.org/)\n",
    "* [The Numbers](https://www.the-numbers.com/)\n",
    "\n",
    "![movie data erd](movie_data_erd.jpeg)"
   ]
  },
  {
   "cell_type": "markdown",
   "metadata": {},
   "source": [
    "### Goal\n",
    "The goal is to investigate movie performance to identify patterns, genres, or attributes of successful films."
   ]
  },
  {
   "cell_type": "markdown",
   "metadata": {},
   "source": [
    "### Objectives:\n",
    "1.\tAnalyze the Movie Data:\n",
    "    * Identify characteristics of high-performing movies, in terms of genre, budget, runtime, release date, or lead actors/directors.\n",
    "    * Look for trends in movie popularity and revenue growth over recent years.\n",
    "2.\tUnderstand Market Demand:\n",
    "    * Examine the types of movies audiences prefer i.e. genre\n",
    "    * Identify seasonal trends like during holiday releases, summer etc. to determine the best time for movie releases.\n",
    "3.\tIdentify Key Success Factors:\n",
    "    * Explore factors like movie rating, production budget, etc.\n",
    "    * Evaluate the impact of sequels or franchise films on box office revenue.\n",
    "4.\tTranslate Findings into Recommendations:\n",
    "    * Provide specific, actionable insights for the company to make data-informed decisions on the types of movies to create.\n",
    "    * Recommend strategies around genre, budget, target demographics, and release timing\n"
   ]
  },
  {
   "cell_type": "markdown",
   "metadata": {},
   "source": []
  }
 ],
 "metadata": {
  "language_info": {
   "name": "python"
  }
 },
 "nbformat": 4,
 "nbformat_minor": 2
}
